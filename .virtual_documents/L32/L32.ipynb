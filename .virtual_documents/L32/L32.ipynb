import torchvision
from PIL import Image
from model import *
import torch


image_path = "./dog.jpeg"                     # 需要先对原先的图片作resize操作，CIFAR10接受的模型输入是32*32
image = Image.open(image_path)      

image = image.convert('RGB')
transfrom = torchvision.transforms.Compose([ torchvision.transforms.Resize((32, 32)),
                                                                                                 torchvision.transforms.ToTensor()])

image = transfrom(image)
print(image.shape)

image = torch.reshape(image, (1, 3, 32, 32))
print(image.shape)


# 这个方法必须是CPU条件下训练出来的模型：
model = torch.load("../L27_L29/CAFIR10_ckpt_e10.pth")
print(model)


model.eval()
with torch.no_grad():
    output = model(image)
    print(output)


print(output.argmax(1))


model = torch.load("../L27_L29/CAFIR10_ckpt_e10.pth", map_location=torch.device('cpu'))              # 只需要在map_location修改映射的device就ok
print(model)


model.eval()
with torch.no_grad():
    output = model(image)
    print(output)


print(output.argmax(1))



