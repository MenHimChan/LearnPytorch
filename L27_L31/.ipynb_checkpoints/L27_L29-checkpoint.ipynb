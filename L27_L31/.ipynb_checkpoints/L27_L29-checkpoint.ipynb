{
 "cells": [
  {
   "cell_type": "markdown",
   "id": "f5b6ab14-b934-4dea-948a-8d3790bc8e4f",
   "metadata": {},
   "source": [
    "# 完整模型训练过程"
   ]
  },
  {
   "cell_type": "markdown",
   "id": "8bc6e645-4868-42c0-8093-4ba58fd5792b",
   "metadata": {},
   "source": [
    "### 准备数据集"
   ]
  },
  {
   "cell_type": "code",
   "execution_count": 1,
   "id": "ce01b382-a6f0-4b11-b66d-aa656e0ab074",
   "metadata": {},
   "outputs": [
    {
     "name": "stdout",
     "output_type": "stream",
     "text": [
      "Files already downloaded and verified\n",
      "Files already downloaded and verified\n",
      "训练集长度为50000\n",
      "测试集长度为10000\n"
     ]
    }
   ],
   "source": [
    "import torchvision\n",
    "from torch.utils.data import DataLoader\n",
    "from torch import nn\n",
    "from model import *\n",
    "from torch.utils.tensorboard import SummaryWriter\n",
    "\n",
    "train_data = torchvision.datasets.CIFAR10(root=\"../dataset\", train=True, transform=torchvision.transforms.ToTensor(),download=True)\n",
    "test_data = torchvision.datasets.CIFAR10(root=\"../dataset\", train=False, transform=torchvision.transforms.ToTensor(),download=True)\n",
    "\n",
    "train_data_size = len(train_data)\n",
    "test_data_size = len(test_data)\n",
    "\n",
    "print(\"训练集长度为{}\".format(train_data_size))\n",
    "print(\"测试集长度为{}\".format(test_data_size))"
   ]
  },
  {
   "cell_type": "markdown",
   "id": "a3a2df59-395c-43a6-987a-14b92615624e",
   "metadata": {},
   "source": [
    "### 数据预处理"
   ]
  },
  {
   "cell_type": "code",
   "execution_count": 2,
   "id": "bfbc81b0-8a40-42e9-853a-ced705557830",
   "metadata": {},
   "outputs": [],
   "source": [
    "# 准备数据集\n",
    "train_dataloader = DataLoader(train_data, batch_size=64)\n",
    "test_dataloader = DataLoader(test_data, batch_size=64)"
   ]
  },
  {
   "cell_type": "markdown",
   "id": "77fa460e-8c8d-4d80-93df-45a0370a767b",
   "metadata": {},
   "source": [
    "### 创建网络实例，定义损失函数，优化器"
   ]
  },
  {
   "cell_type": "code",
   "execution_count": 3,
   "id": "372905cd-f282-432c-bff0-684005d78935",
   "metadata": {},
   "outputs": [],
   "source": [
    "# 运行的设备：pytorch==1.4.0  + rtx3080 条件下，只能用CPU跑，3080只支持cuda11以上的， 1.4只支持cuda10\n",
    "device = torch.device(\"cpu\")                   # 单显卡写 \"cuda\"或者\"cuda:0\"都是一样的\n",
    "\n",
    "#  创建网络实例\n",
    "tudui = Tudui()\n",
    "tudui = tudui.to(device)\n",
    "\n",
    "# 损失函数\n",
    "loss_fn = nn.CrossEntropyLoss()\n",
    "loss_fn = loss_fn.to(device)\n",
    "\n",
    "# 优化器\n",
    "learning_rate = 0.01\n",
    "optimizer = torch.optim.SGD(tudui.parameters(), lr=learning_rate)"
   ]
  },
  {
   "cell_type": "markdown",
   "id": "a3ce74cc-e733-44db-99ee-6f38f75fb9e7",
   "metadata": {},
   "source": [
    "### 设置训练网络的一些参数"
   ]
  },
  {
   "cell_type": "code",
   "execution_count": 4,
   "id": "cc19e8c4-b8c0-41f7-87fb-5aa3aedb1cda",
   "metadata": {},
   "outputs": [],
   "source": [
    "# 训练次数\n",
    "total_train_step = 0\n",
    "# 测试次数\n",
    "total_test_step = 10\n",
    "# epoch\n",
    "epoch = 10\n",
    "\n",
    "# 添加tensorboard\n",
    "writer = SummaryWriter(\"./logs_train\")"
   ]
  },
  {
   "cell_type": "markdown",
   "id": "d2eb24fa-19eb-4856-beab-271ed25d0257",
   "metadata": {},
   "source": [
    "### 训练开始：   \n",
    "**训练一个epoch  =  在训练集上完整学一次 + 在测试集上完整验证一次**   \n",
    "这个地方有点尴尬，老版本的pytorch1.4支持的cuda版本我的显卡3080用不了.... \n",
    "所以这个地方只能用cpu的环境来跑，不过我在当前文件夹目录下另外保存了一个.py的文件，用pycharm配yolov5的解释器就能跑GPU版本的了。"
   ]
  },
  {
   "cell_type": "code",
   "execution_count": 6,
   "id": "0c19b002-5d29-486d-875f-f134b3329e6d",
   "metadata": {},
   "outputs": [
    {
     "name": "stdout",
     "output_type": "stream",
     "text": [
      "-----------------第1轮训练开始------------------\n",
      "训练次数:2500 , Loss: 1.659647822380066\n",
      "训练次数:2600 , Loss: 1.4574962854385376\n",
      "训练次数:2700 , Loss: 1.4238028526306152\n",
      "训练次数:2800 , Loss: 1.6770062446594238\n",
      "训练次数:2900 , Loss: 1.650638461112976\n",
      "训练次数:3000 , Loss: 1.6401324272155762\n",
      "训练次数:3100 , Loss: 1.6196000576019287\n",
      "训练次数:3200 , Loss: 1.4714313745498657\n",
      "本epoch上整体验证集上的Loss:  260.5732116699219\n",
      "本epoch上整体验证集上的Acc  :  0.4\n",
      "-----------------第2轮训练开始------------------\n",
      "训练次数:3300 , Loss: 1.6874343156814575\n",
      "训练次数:3400 , Loss: 1.464526653289795\n",
      "训练次数:3500 , Loss: 1.3847261667251587\n",
      "训练次数:3600 , Loss: 1.3109409809112549\n",
      "训练次数:3700 , Loss: 1.4337337017059326\n",
      "训练次数:3800 , Loss: 1.500367522239685\n",
      "训练次数:3900 , Loss: 1.365796685218811\n",
      "训练次数:4000 , Loss: 1.2445425987243652\n",
      "本epoch上整体验证集上的Loss:  249.33676147460938\n",
      "本epoch上整体验证集上的Acc  :  0.4285\n",
      "-----------------第3轮训练开始------------------\n",
      "训练次数:4100 , Loss: 1.4116584062576294\n",
      "训练次数:4200 , Loss: 1.177223563194275\n",
      "训练次数:4300 , Loss: 1.6078356504440308\n",
      "训练次数:4400 , Loss: 1.4061129093170166\n",
      "训练次数:4500 , Loss: 1.3385597467422485\n",
      "训练次数:4600 , Loss: 1.322057843208313\n",
      "训练次数:4700 , Loss: 1.4096879959106445\n",
      "训练次数:4800 , Loss: 1.4599872827529907\n",
      "本epoch上整体验证集上的Loss:  239.18539428710938\n",
      "本epoch上整体验证集上的Acc  :  0.4528\n",
      "-----------------第4轮训练开始------------------\n",
      "训练次数:4900 , Loss: 1.3775837421417236\n",
      "训练次数:5000 , Loss: 1.311146855354309\n",
      "训练次数:5100 , Loss: 1.3039379119873047\n",
      "训练次数:5200 , Loss: 1.4458094835281372\n",
      "训练次数:5300 , Loss: 1.424454689025879\n",
      "训练次数:5400 , Loss: 1.2159390449523926\n",
      "训练次数:5500 , Loss: 1.1443753242492676\n",
      "训练次数:5600 , Loss: 1.1846758127212524\n",
      "本epoch上整体验证集上的Loss:  230.29151916503906\n",
      "本epoch上整体验证集上的Acc  :  0.4753\n",
      "-----------------第5轮训练开始------------------\n",
      "训练次数:5700 , Loss: 1.394882082939148\n",
      "训练次数:5800 , Loss: 1.5265966653823853\n",
      "训练次数:5900 , Loss: 1.2391396760940552\n",
      "训练次数:6000 , Loss: 1.1025243997573853\n",
      "训练次数:6100 , Loss: 1.1611440181732178\n",
      "训练次数:6200 , Loss: 1.1981536149978638\n",
      "训练次数:6300 , Loss: 1.3068515062332153\n",
      "本epoch上整体验证集上的Loss:  220.830078125\n",
      "本epoch上整体验证集上的Acc  :  0.4976\n",
      "-----------------第6轮训练开始------------------\n",
      "训练次数:6400 , Loss: 1.3963673114776611\n",
      "训练次数:6500 , Loss: 1.223634123802185\n",
      "训练次数:6600 , Loss: 1.2767330408096313\n",
      "训练次数:6700 , Loss: 1.1895602941513062\n",
      "训练次数:6800 , Loss: 1.25880765914917\n",
      "训练次数:6900 , Loss: 1.0877286195755005\n",
      "训练次数:7000 , Loss: 0.9413344860076904\n",
      "训练次数:7100 , Loss: 1.2084131240844727\n",
      "本epoch上整体验证集上的Loss:  211.16818237304688\n",
      "本epoch上整体验证集上的Acc  :  0.5222\n",
      "-----------------第7轮训练开始------------------\n",
      "训练次数:7200 , Loss: 1.4220761060714722\n",
      "训练次数:7300 , Loss: 1.256273865699768\n",
      "训练次数:7400 , Loss: 1.1401764154434204\n",
      "训练次数:7500 , Loss: 1.2638804912567139\n",
      "训练次数:7600 , Loss: 1.3062739372253418\n",
      "训练次数:7700 , Loss: 1.3908308744430542\n",
      "训练次数:7800 , Loss: 1.1157734394073486\n",
      "训练次数:7900 , Loss: 1.0977389812469482\n",
      "本epoch上整体验证集上的Loss:  201.46435546875\n",
      "本epoch上整体验证集上的Acc  :  0.5436\n",
      "-----------------第8轮训练开始------------------\n",
      "训练次数:8000 , Loss: 0.9925815463066101\n",
      "训练次数:8100 , Loss: 0.846024215221405\n",
      "训练次数:8200 , Loss: 1.0407536029815674\n",
      "训练次数:8300 , Loss: 1.0299010276794434\n",
      "训练次数:8400 , Loss: 1.0503767728805542\n",
      "训练次数:8500 , Loss: 1.1945720911026\n",
      "训练次数:8600 , Loss: 1.168727993965149\n",
      "训练次数:8700 , Loss: 1.0616896152496338\n",
      "本epoch上整体验证集上的Loss:  193.6982421875\n",
      "本epoch上整体验证集上的Acc  :  0.5606\n",
      "-----------------第9轮训练开始------------------\n",
      "训练次数:8800 , Loss: 1.1964622735977173\n",
      "训练次数:8900 , Loss: 1.2147457599639893\n",
      "训练次数:9000 , Loss: 1.1211763620376587\n",
      "训练次数:9100 , Loss: 1.0007727146148682\n",
      "训练次数:9200 , Loss: 1.2612793445587158\n",
      "训练次数:9300 , Loss: 1.1857376098632812\n",
      "训练次数:9400 , Loss: 1.0745811462402344\n",
      "训练次数:9500 , Loss: 1.0000097751617432\n",
      "本epoch上整体验证集上的Loss:  188.1459503173828\n",
      "本epoch上整体验证集上的Acc  :  0.5751\n",
      "-----------------第10轮训练开始------------------\n",
      "训练次数:9600 , Loss: 1.1936562061309814\n",
      "训练次数:9700 , Loss: 0.9799266457557678\n",
      "训练次数:9800 , Loss: 0.9729343056678772\n",
      "训练次数:9900 , Loss: 1.269913911819458\n",
      "训练次数:10000 , Loss: 0.7851384282112122\n",
      "训练次数:10100 , Loss: 0.940676212310791\n",
      "训练次数:10200 , Loss: 1.0930085182189941\n",
      "训练次数:10300 , Loss: 1.193297028541565\n",
      "本epoch上整体验证集上的Loss:  184.25262451171875\n",
      "本epoch上整体验证集上的Acc  :  0.5831\n"
     ]
    }
   ],
   "source": [
    "for i in range(epoch):\n",
    "    print(\"-----------------第{}轮训练开始------------------\".format(i + 1))\n",
    "    \n",
    "    # 训练步骤开始\n",
    "    tudui.train()\n",
    "    for data in train_dataloader:\n",
    "        imgs, targets = data                                                      # 从dataloader取出数据\n",
    "        imgs = imgs.to(device)\n",
    "        targets = targets.to(device)\n",
    "        outputs = tudui(imgs)                                                 #  神经网络前向推理\n",
    "        loss = loss_fn(input=outputs, target=targets)  #  计算真实值与目标之间的误差\n",
    "        \n",
    "        # 优化器调整模型参数\n",
    "        optimizer.zero_grad()          # 将上次存留的梯度信息清零\n",
    "        loss.backward()                      #   反向传播\n",
    "        optimizer.step()                      #   修改权重参数\n",
    "        \n",
    "        # 打印训练结果\n",
    "        total_train_step += 1\n",
    "        if total_train_step % 100 == 0:              # 每训练100次打印一次结果\n",
    "            print(\"训练次数:{} , Loss: {}\".format(total_train_step, loss))\n",
    "            writer.add_scalar(\"Train Loss\", loss.item(), total_train_step)\n",
    "\n",
    "    # 测试步骤开始：validation\n",
    "    tudui.eval()\n",
    "    total_accuracy = 0\n",
    "    total_test_loss = 0\n",
    "    with torch.no_grad():\n",
    "        for data in test_dataloader:\n",
    "            imgs, targets = data\n",
    "            outputs = tudui(imgs)\n",
    "            loss = loss_fn(input=outputs, target=targets)\n",
    "            total_test_loss += loss\n",
    "            accuracy = (outputs.argmax(1)  == targets).sum()                                                                      # 逐行进行比较\n",
    "            # print(accuracy)\n",
    "            total_accuracy += accuracy.item()\n",
    "            # print(\"total is ：\"+str(total_accuracy))\n",
    "    \n",
    "    writer.add_scalar(\"Validation Loss\", total_test_loss, total_test_step)\n",
    "    print(\"本epoch上整体验证集上的Loss:  {}\".format(total_test_loss))\n",
    "    writer.add_scalar(\"Validation Acc  \", total_accuracy/test_data_size, total_test_step)\n",
    "    print(\"本epoch上整体验证集上的Acc  :  {}\".format(total_accuracy/test_data_size))\n",
    "    \n",
    "    # 本epoch的测试结束，计步器++\n",
    "    total_test_step += 1\n",
    "\n",
    "torch.save(tudui, \"CAFIR10_ckpt_e10.pth\")\n",
    "print(\"Model has been saved\")\n",
    "writer.close()"
   ]
  },
  {
   "cell_type": "markdown",
   "id": "fc64ede1-75b5-4186-ad8d-197c7abbe893",
   "metadata": {},
   "source": [
    "### torch.argmax方法\n",
    "---\n",
    "输出逐行(或者逐列)最大值的索引号，放在一个行向量中，输出结果形如：[x , y, z , q, m, n]，可以根据下面的原理来优化训练过程中的一些可视化数据，具体用途是可以根据这个做出`acc`。\n"
   ]
  },
  {
   "cell_type": "code",
   "execution_count": 18,
   "id": "fd86ba90-8279-4355-815d-34269d9b9e5d",
   "metadata": {},
   "outputs": [
    {
     "name": "stdout",
     "output_type": "stream",
     "text": [
      "tensor([1, 1])\n"
     ]
    }
   ],
   "source": [
    "import torch\n",
    "\n",
    "out_put = torch.tensor([[0.1, 0.2],\n",
    "                                                  [0.05, 0.4],])\n",
    "\n",
    "print(out_put.argmax(1)) # 参数为1的时候是横向比较（逐行比较）"
   ]
  },
  {
   "cell_type": "code",
   "execution_count": 19,
   "id": "31b7a13c-a8a1-4905-85da-ed09ff79ff40",
   "metadata": {},
   "outputs": [
    {
     "name": "stdout",
     "output_type": "stream",
     "text": [
      "tensor([0, 1])\n"
     ]
    }
   ],
   "source": [
    "print(out_put.argmax(0)) # 参数为0的时候是纵向比较（逐列比较）0.1 > 0.05 => 索引0更大 => 输出0 ;  0.2 < 0.4 => 索引1更大 => 输出1 ======> 最后结果是[0,  1]"
   ]
  },
  {
   "cell_type": "code",
   "execution_count": 21,
   "id": "73ee6935-4ef9-40d8-a946-d54271fc90d5",
   "metadata": {},
   "outputs": [
    {
     "name": "stdout",
     "output_type": "stream",
     "text": [
      "tensor([False,  True])\n"
     ]
    }
   ],
   "source": [
    "preds = out_put.argmax(1)\n",
    "goal = torch.tensor([0, 1])\n",
    "print(preds == goal)"
   ]
  },
  {
   "cell_type": "markdown",
   "id": "cbd9cc62-3243-48af-91c9-53a2923fa366",
   "metadata": {},
   "source": [
    "👇可以输出预测值和目标值匹配的个数"
   ]
  },
  {
   "cell_type": "code",
   "execution_count": 22,
   "id": "42a5fd68-de5d-4a32-b9d8-23a7d3edc434",
   "metadata": {},
   "outputs": [
    {
     "name": "stdout",
     "output_type": "stream",
     "text": [
      "tensor(1)\n"
     ]
    }
   ],
   "source": [
    "print((preds == goal).sum())"
   ]
  }
 ],
 "metadata": {
  "kernelspec": {
   "display_name": "Python 3",
   "language": "python",
   "name": "python3"
  },
  "language_info": {
   "codemirror_mode": {
    "name": "ipython",
    "version": 3
   },
   "file_extension": ".py",
   "mimetype": "text/x-python",
   "name": "python",
   "nbconvert_exporter": "python",
   "pygments_lexer": "ipython3",
   "version": "3.6.13"
  }
 },
 "nbformat": 4,
 "nbformat_minor": 5
}
