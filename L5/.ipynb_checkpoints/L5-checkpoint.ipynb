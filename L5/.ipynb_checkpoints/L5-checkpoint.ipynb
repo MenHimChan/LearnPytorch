{
 "cells": [
  {
   "cell_type": "markdown",
   "id": "218eb4a9-7c5b-47de-a68e-780ba7aa881d",
   "metadata": {
    "tags": []
   },
   "source": [
    "# L5、L6-Pytorch数据加载"
   ]
  },
  {
   "cell_type": "markdown",
   "id": "5709eade-7cfd-46df-a22a-3a861d41b26f",
   "metadata": {
    "tags": []
   },
   "source": [
    "### 1. Dataset,Dataloader,Data"
   ]
  },
  {
   "cell_type": "markdown",
   "id": "3cfe8f7a-a8db-462b-841a-f85e16a44430",
   "metadata": {},
   "source": [
    "+ `data`: 垃圾，需要挑出有用的数据\n",
    "+ `dataset`: 提供一种方式去获取数据及其label, 会告诉我们如何去获取每一个数据及其label，会告诉我们总共有多少数据\n",
    "+ `dataloader`: 提供一种方法能让我们对导入的数据进行处理"
   ]
  },
  {
   "cell_type": "code",
   "execution_count": 2,
   "id": "8a81639e-c1e2-4fc6-96ba-5ffb1dfa5d24",
   "metadata": {},
   "outputs": [],
   "source": [
    "from torch.utils.data import Dataset"
   ]
  },
  {
   "cell_type": "code",
   "execution_count": 3,
   "id": "152ac21e-3acc-41b5-8a63-1bb4318b75ac",
   "metadata": {},
   "outputs": [
    {
     "name": "stdout",
     "output_type": "stream",
     "text": [
      "Help on class Dataset in module torch.utils.data.dataset:\n",
      "\n",
      "class Dataset(builtins.object)\n",
      " |  An abstract class representing a :class:`Dataset`.\n",
      " |  \n",
      " |  All datasets that represent a map from keys to data samples should subclass\n",
      " |  it. All subclasses should overrite :meth:`__getitem__`, supporting fetching a\n",
      " |  data sample for a given key. Subclasses could also optionally overwrite\n",
      " |  :meth:`__len__`, which is expected to return the size of the dataset by many\n",
      " |  :class:`~torch.utils.data.Sampler` implementations and the default options\n",
      " |  of :class:`~torch.utils.data.DataLoader`.\n",
      " |  \n",
      " |  .. note::\n",
      " |    :class:`~torch.utils.data.DataLoader` by default constructs a index\n",
      " |    sampler that yields integral indices.  To make it work with a map-style\n",
      " |    dataset with non-integral indices/keys, a custom sampler must be provided.\n",
      " |  \n",
      " |  Methods defined here:\n",
      " |  \n",
      " |  __add__(self, other)\n",
      " |  \n",
      " |  __getitem__(self, index)\n",
      " |  \n",
      " |  ----------------------------------------------------------------------\n",
      " |  Data descriptors defined here:\n",
      " |  \n",
      " |  __dict__\n",
      " |      dictionary for instance variables (if defined)\n",
      " |  \n",
      " |  __weakref__\n",
      " |      list of weak references to the object (if defined)\n",
      "\n"
     ]
    }
   ],
   "source": [
    "help(Dataset)"
   ]
  },
  {
   "cell_type": "markdown",
   "id": "86aa992a-5d82-401f-95a6-2fe5f263f3f6",
   "metadata": {},
   "source": [
    "**__xxx__，这种变量定义的格式一般都是说明该变量是标准，不能被修改。**"
   ]
  },
  {
   "cell_type": "markdown",
   "id": "51f692fa-d089-4c4f-8150-804889438693",
   "metadata": {},
   "source": [
    "### 2.自定义类读取数据集：\n",
    "\n",
    "**torch.utils.data.Dataset**\n",
    "**要自定义自己的 Dataset 类，需要重载两个方式，【__len__】、【__getitem__】**\n",
    "+ 【__len__】返回数据集的大小\n",
    "+ 【__getitem__】实现索引数据集中的某一个元素"
   ]
  },
  {
   "cell_type": "code",
   "execution_count": 5,
   "id": "5ec7b458-a58c-46f1-b32c-59fc77cace10",
   "metadata": {},
   "outputs": [],
   "source": [
    "from PIL import Image"
   ]
  },
  {
   "cell_type": "code",
   "execution_count": 10,
   "id": "a134f9d9-b82f-4aeb-8269-cefeabadeb25",
   "metadata": {},
   "outputs": [],
   "source": [
    "# 打开图片\n",
    "image_path = \"./dataset/train/ants/0013035.jpg\"\n",
    "img = Image.open(image_path)"
   ]
  },
  {
   "cell_type": "code",
   "execution_count": 12,
   "id": "adc6bc63-ba2e-4ea0-979a-c53cf0e1d9d0",
   "metadata": {},
   "outputs": [],
   "source": [
    "# 输出大小以及打开图片\n",
    "img.size\n",
    "img.show()"
   ]
  },
  {
   "cell_type": "code",
   "execution_count": 19,
   "id": "9ec2dbbf-badc-41c6-9688-873260095166",
   "metadata": {},
   "outputs": [
    {
     "name": "stdout",
     "output_type": "stream",
     "text": [
      "./dataset/train/ants\n",
      "----------------------------------------\n",
      "['2019439677_2db655d361.jpg', 'termite-vs-ant.jpg', '5650366_e22b7e1065.jpg', '6240338_93729615ec.jpg', '150801171_cd86f17ed8.jpg', '474806473_ca6caab245.jpg', '20935278_9190345f6b.jpg', '1808777855_2a895621d7.jpg', '424873399_47658a91fb.jpg', '522163566_fec115ca66.jpg', 'kurokusa.jpg', '2288450226_a6e96e8fdf.jpg', '382971067_0bfd33afe0.jpg', '162603798_40b51f1654.jpg', '998118368_6ac1d91f81.jpg', '460874319_0a45ab4d05.jpg', '1924473702_daa9aacdbe.jpg', '334167043_cbd1adaeb9.jpg', 'formica.jpeg', '512863248_43c8ce579b.jpg', '484293231_e53cfc0c89.jpg', '531979952_bde12b3bc0.jpg', '533848102_70a85ad6dd.jpg', '226951206_d6bf946504.jpg', '938946700_ca1c669085.jpg', '2265825502_fff99cfd2d.jpg', '684133190_35b62c0c1d.jpg', 'hormiga_co_por.jpg', '384191229_5779cf591b.jpg', '1286984635_5119e80de1.jpg', '45472593_bfd624f8dc.jpg', '1917341202_d00a7f9af5.jpg', '470127037_513711fd21.jpg', '892108839_f1aad4ca46.jpg', '339670531_94b75ae47a.jpg', '6240329_72c01e663e.jpg', '408393566_b5b694119b.jpg', 'ant photos.jpg', '9715481_b3cb4114ff.jpg', '543417860_b14237f569.jpg', '2278278459_6b99605e50.jpg', '188552436_605cc9b36b.jpg', '466430434_4000737de9.jpg', '512164029_c0a66b8498.jpg', '36439863_0bec9f554f.jpg', '2288481644_83ff7e4572.jpg', '28847243_e79fe052cd.jpg', '201790779_527f4c0168.jpg', 'imageNotFound.gif', '275429470_b2d7d9290b.jpg', '1473187633_63ccaacea6.jpg', '201558278_fe4caecc76.jpg', '459694881_ac657d3187.jpg', '1030023514_aad5c608f9.jpg', '460372577_f2f6a8c9fc.jpg', '841049277_b28e58ad05.jpg', '560966032_988f4d7bc4.jpg', '1368913450_e146e2fb6d.jpg', '1269756697_0bce92cdab.jpg', '7759525_1363d24e88.jpg', '167890289_dd5ba923f3.jpg', '403746349_71384f5b58.jpg', '662541407_ff8db781e7.jpg', '957233405_25c1d1187b.jpg', '518773929_734dbc5ff4.jpg', '2292213964_ca51ce4bef.jpg', '132478121_2a430adea2.jpg', '224655713_3956f7d39a.jpg', '1262877379_64fcada201.jpg', '541630764_dbd285d63c.jpg', '1225872729_6f0856588f.jpg', '1660097129_384bf54490.jpg', '386190770_672743c9a7.jpg', '424119020_6d57481dab.jpg', '150801003_3390b73135.jpg', '149244013_c529578289.jpg', '6743948_2b8c096dda.jpg', '886401651_f878e888cd.jpg', 'army-ants-red-picture.jpg', 'MehdiabadiAnt2_600.jpg', '175998972.jpg', '69639610_95e0de17aa.jpg', '506249836_717b73f540.jpg', '258217966_d9d90d18d3.jpg', '540889389_48bb588b21.jpg', '24335309_c5ea483bb8.jpg', '822537660_caf4ba5514.jpg', '196757565_326437f5fe.jpg', '178538489_bec7649292.jpg', 'Nepenthes_rafflesiana_ant.jpg', '49375974_e28ba6f17e.jpg', '506249802_207cd979b4.jpg', '374435068_7eee412ec4.jpg', '67270775_e9fdf77e9d.jpg', '535522953_308353a07c.jpg', '1360291657_dc248c5eea.jpg', '0013035.jpg', '148715752_302c84f5a4.jpg', 'trap-jaw-ant-insect-bg.jpg', '522415432_2218f34bf8.jpg', '255434217_1b2b3fe0a4.jpg', 'VietnameseAntMimicSpider.jpg', '795000156_a9900a4a71.jpg', '707895295_009cf23188.jpg', '116570827_e9c126745d.jpg', '475961153_b8c13fd405.jpg', '1804095607_0341701e1c.jpg', '207947948_3ab29d7207.jpg', 'swiss-army-ant.jpg', '450057712_771b3bfc91.jpg', '1693954099_46d4c20605.jpg', '2265824718_2c96f485da.jpg', '392382602_1b7bed32fa.jpg', '82852639_52b7f7f5e3.jpg', '318052216_84dff3f98a.jpg', 'Ant_1.jpg', '342438950_a3da61deab.jpg', '1095476100_3906d8afde.jpg', '196057951_63bf063b92.jpg', '1099452230_d1949d3250.jpg', '245647475_9523dfd13e.jpg', '649026570_e58656104b.jpg', '154124431_65460430f2.jpg', '1489674356_09d48dde0a.jpg']\n",
      "----------------------------------------\n",
      "2019439677_2db655d361.jpg\n"
     ]
    }
   ],
   "source": [
    "# os库\n",
    "import os\n",
    "root_dir = \"./dataset/train\"\n",
    "label_dir = \"ants\"\n",
    "path = os.path.join(root_dir, label_dir)                   # 将前后两个目录用'/'分隔开来\n",
    "print(path )\n",
    "print(\"----------------------------------------\")\n",
    "image_path = os.listdir(path)                                      # 将这个路径下的文件名做成一个列表\n",
    "print(image_path )\n",
    "print(\"----------------------------------------\")\n",
    "print(image_path[0])"
   ]
  },
  {
   "cell_type": "code",
   "execution_count": 27,
   "id": "eef603b3-6d2d-4519-9052-2d81b8dfb0c8",
   "metadata": {},
   "outputs": [],
   "source": [
    "from torch.utils.data import Dataset\n",
    "from PIL import Image\n",
    "import os\n",
    "\n",
    "class MyData(Dataset):                                                                # 继承自Dataset这个类\n",
    "    \n",
    "    def __init__(self, root_dir, label_dir):                               # 一般都是定义一些全局变量\n",
    "        self.root_dir = root_dir\n",
    "        self.label_dir = label_dir\n",
    "        self.path = os.path.join(self.root_dir, self.label_dir)\n",
    "        self.image_path = os.listdir(self.path)\n",
    "        \n",
    "    def __getitem__(self, idx):\n",
    "        img_name = self.image_path[idx]\n",
    "        img_item_path = os.path.join(self.root_dir, self.label_dir, img_name)\n",
    "        img = Image.open(img_item_path)\n",
    "        label = self.label_dir\n",
    "        return img, label\n",
    "        \n",
    "    def __len__(self):                                                                     # 返回数据集的长度\n",
    "        return len(self.image_path)"
   ]
  },
  {
   "cell_type": "code",
   "execution_count": 25,
   "id": "f3e5d8cb-596a-43c3-835e-ae8c6f682fe3",
   "metadata": {},
   "outputs": [],
   "source": [
    "root_dir = \"./dataset/train\"\n",
    "ants_label_dir = \"ants\"\n",
    "ants_dataset = MyData(root_dir, ants_label_dir)"
   ]
  },
  {
   "cell_type": "markdown",
   "id": "f18c1d1a-0737-4eba-93b4-7ac0dd3e203d",
   "metadata": {},
   "source": [
    "#### 2.1查看蚂蚁数据集："
   ]
  },
  {
   "cell_type": "code",
   "execution_count": 37,
   "id": "79ad9bf6-acee-479d-bfc1-9634f581aef1",
   "metadata": {},
   "outputs": [],
   "source": [
    "img, label = ants_dataset[0]\n",
    "img.show()"
   ]
  },
  {
   "cell_type": "markdown",
   "id": "c6553221-8207-451d-aa42-0bd31a427e86",
   "metadata": {},
   "source": [
    "❓: **为什么ants_dataset[0]是直接调用__getitem__方法?**    \n",
    "   \n",
    "GPT：   \n",
    "在Python中，当你使用方括号 [] 语法访问一个对象时，Python 会自动调用该对象的特殊方法 __getitem__。\n",
    "这是Python数据模型的一部分，它允许对象实现容器类型的行为，如列表或字典。 MyData 类继承自 torch.utils.data.Dataset，后者定义了 **getitem** 和 **len** 这样的特殊方法，使其子类能够表现得像一个序列（如列表）。这样，当你对这个数据集对象进行索引访问，如 ants_dataset[0]，Python解释器就会自动调用 MyData 类的 **getitem** 方法，并传递索引 0 作为参数。 **getitem** 方法通常用于检索序列中的元素。在PyTorch的 Dataset 类中，这个方法被用来加载和返回数据集中特定索引的数据样本。这就是为什么调用 ants_dataset[0] 返回数据集中第一个样本，即索引为0的样本。这也是您能够通过索引轻松访问数据集中任意样本的原因。 具体到 MyData 类，当 ants_dataset[0] 被调用时，以下这段代码将执行：\n",
    "```python\n",
    "def __getitem__(self, idx):\n",
    "    img_name = self.image_path[idx]  # 获取图像名称\n",
    "    img_item_path = os.path.join(self.root_dir, self.label_dir, img_name)  # 创建完整的图像路径\n",
    "    img = Image.open(img_item_path)  # 加载图像\n",
    "    label = self.label_dir  # 这里应该是提取特定图像的标签，但在提供的代码中只是简单地返回了标签目录的名称\n",
    "    return img, label\n",
    "```\n",
    "因此，它返回了第一个图像和一个标签（在你的代码中标签是目录名 \"ants\"，但通常应该是图像的实际标签）。"
   ]
  },
  {
   "cell_type": "markdown",
   "id": "89fb2aa4-ca21-4e73-b57c-85cd5e8e0926",
   "metadata": {},
   "source": [
    "#### 2.2 查看蜜蜂数据集："
   ]
  },
  {
   "cell_type": "code",
   "execution_count": 38,
   "id": "3822072f-049f-457b-aff8-67b09d8ee994",
   "metadata": {},
   "outputs": [
    {
     "data": {
      "text/plain": [
       "(<PIL.JpegImagePlugin.JpegImageFile image mode=RGB size=500x375 at 0x7EFBF82AD908>,\n",
       " 'bees')"
      ]
     },
     "execution_count": 38,
     "metadata": {},
     "output_type": "execute_result"
    }
   ],
   "source": [
    "bees_label_dir = \"bees\"\n",
    "bees_dataset = MyData(root_dir, bees_label_dir)\n",
    "bees_dataset[2]"
   ]
  },
  {
   "cell_type": "code",
   "execution_count": 39,
   "id": "2fca927e-19b1-4cef-90fe-25162e188bc9",
   "metadata": {},
   "outputs": [],
   "source": [
    "img, label = bees_dataset[2]\n",
    "img.show()"
   ]
  },
  {
   "cell_type": "markdown",
   "id": "50f79225-ea11-4fc6-b613-6b0c2b57713d",
   "metadata": {},
   "source": [
    "#### 2.3 数据集可以相加:"
   ]
  },
  {
   "cell_type": "markdown",
   "id": "733647ff-ccea-4196-8401-479e668c9fcc",
   "metadata": {},
   "source": [
    "现实中训练模型常常遇到数据集不足情况，有时候需要仿制数据集，所以需要数据集合的拼接操作。\n"
   ]
  },
  {
   "cell_type": "code",
   "execution_count": 40,
   "id": "87dbf971-0959-4e24-a6e5-8b406e0a5f69",
   "metadata": {},
   "outputs": [],
   "source": [
    "train_dataset = ants_dataset + bees_dataset"
   ]
  },
  {
   "cell_type": "code",
   "execution_count": 42,
   "id": "92fad96f-c4b9-40aa-8bed-0a55645ebb5d",
   "metadata": {},
   "outputs": [
    {
     "data": {
      "text/plain": [
       "121"
      ]
     },
     "execution_count": 42,
     "metadata": {},
     "output_type": "execute_result"
    }
   ],
   "source": [
    "len(bees_dataset)"
   ]
  },
  {
   "cell_type": "code",
   "execution_count": 43,
   "id": "32b51005-b7a6-4b55-bdda-3a055f070c04",
   "metadata": {},
   "outputs": [
    {
     "data": {
      "text/plain": [
       "124"
      ]
     },
     "execution_count": 43,
     "metadata": {},
     "output_type": "execute_result"
    }
   ],
   "source": [
    "len(ants_dataset)"
   ]
  },
  {
   "cell_type": "code",
   "execution_count": 44,
   "id": "9269533f-3d74-4556-811a-08a5b8ebfa3c",
   "metadata": {},
   "outputs": [
    {
     "data": {
      "text/plain": [
       "245"
      ]
     },
     "execution_count": 44,
     "metadata": {},
     "output_type": "execute_result"
    }
   ],
   "source": [
    "len(train_dataset)"
   ]
  }
 ],
 "metadata": {
  "kernelspec": {
   "display_name": "Python 3",
   "language": "python",
   "name": "python3"
  },
  "language_info": {
   "codemirror_mode": {
    "name": "ipython",
    "version": 3
   },
   "file_extension": ".py",
   "mimetype": "text/x-python",
   "name": "python",
   "nbconvert_exporter": "python",
   "pygments_lexer": "ipython3",
   "version": "3.6.13"
  }
 },
 "nbformat": 4,
 "nbformat_minor": 5
}
